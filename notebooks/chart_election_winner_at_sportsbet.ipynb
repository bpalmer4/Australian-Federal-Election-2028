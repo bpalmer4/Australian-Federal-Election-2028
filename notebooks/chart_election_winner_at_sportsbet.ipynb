{
 "cells": [
  {
   "cell_type": "markdown",
   "id": "7b00fd31",
   "metadata": {},
   "source": [
    "# Chart election winner at sportsbet"
   ]
  },
  {
   "cell_type": "code",
   "execution_count": 1,
   "id": "01020f20",
   "metadata": {},
   "outputs": [
    {
     "data": {
      "text/plain": [
       "'Chart the collected odds and implied winning probabilities\\nfor the next Australian Federal Election, scheduled for 2028.'"
      ]
     },
     "execution_count": 1,
     "metadata": {},
     "output_type": "execute_result"
    }
   ],
   "source": [
    "\"\"\"Chart the collected odds and implied winning probabilities\n",
    "for the next Australian Federal Election, scheduled for 2028.\"\"\""
   ]
  },
  {
   "cell_type": "markdown",
   "id": "ca41c267",
   "metadata": {},
   "source": [
    "## Python set-up"
   ]
  },
  {
   "cell_type": "code",
   "execution_count": 2,
   "id": "7d3bc55b",
   "metadata": {
    "ExecuteTime": {
     "end_time": "2022-03-22T19:52:01.178597Z",
     "start_time": "2022-03-22T19:51:44.732031Z"
    }
   },
   "outputs": [],
   "source": [
    "import pandas as pd\n",
    "import mgplot as mg\n",
    "from common import RFOOTER"
   ]
  },
  {
   "cell_type": "code",
   "execution_count": 3,
   "id": "78633567",
   "metadata": {},
   "outputs": [],
   "source": [
    "# plotting constants\n",
    "LFOOTER = (\n",
    "    \"Betting odds observed daily at sportsbet.com.au \"\n",
    "    + \"(gaps = missing observations). \"\n",
    ")\n",
    "footers = {\"lfooter\": LFOOTER, \"rfooter\": RFOOTER}\n",
    "SHOW = True"
   ]
  },
  {
   "cell_type": "code",
   "execution_count": 4,
   "id": "83a66611-5498-49c8-bdc9-fd556d3b9b26",
   "metadata": {},
   "outputs": [],
   "source": [
    "# plotting directory set-up\n",
    "def set_up_plotting() -> None:\n",
    "    \"\"\"Set up plotting.\"\"\"\n",
    "\n",
    "    mg.set_chart_dir(\"../charts/election-winner/\")\n",
    "    mg.clear_chart_dir()\n",
    "\n",
    "\n",
    "set_up_plotting()"
   ]
  },
  {
   "cell_type": "markdown",
   "id": "b6ec3056",
   "metadata": {},
   "source": [
    "## Get data"
   ]
  },
  {
   "cell_type": "code",
   "execution_count": 5,
   "id": "08a2fb1a",
   "metadata": {},
   "outputs": [],
   "source": [
    "def amalg_columns(df: pd.DataFrame, columns: list) -> pd.DataFrame:\n",
    "    \"\"\"Amalgamate columns into a single column (named for the first column).\n",
    "    Where, for each row, only one non-NAN value exists, that value is used.\"\"\"\n",
    "\n",
    "    # --- check only one non-NAN value exists.\n",
    "    if df[columns].notna().sum(axis=1).gt(1).any():\n",
    "        raise ValueError(\n",
    "            \"Not all rows have exactly one non-NAN value in the specified columns.\"\n",
    "        )\n",
    "\n",
    "    # --- amalgamate columns\n",
    "    df[columns[0]] = df[columns].bfill(axis=1).iloc[:, 0]\n",
    "\n",
    "    # --- drop the other columns\n",
    "    df = df.drop(columns=columns[1:])\n",
    "\n",
    "    return df"
   ]
  },
  {
   "cell_type": "code",
   "execution_count": 6,
   "id": "3747b16d",
   "metadata": {
    "ExecuteTime": {
     "end_time": "2022-03-22T19:52:01.226870Z",
     "start_time": "2022-03-22T19:52:01.185106Z"
    }
   },
   "outputs": [
    {
     "name": "stdout",
     "output_type": "stream",
     "text": [
      "Any Other Result \n",
      " 2025-06-07    26.0\n",
      "2025-06-08    26.0\n",
      "2025-06-09    26.0\n",
      "2025-06-10    26.0\n",
      "2025-06-11    26.0\n",
      "Freq: D, Name: Any Other Result, dtype: float64\n"
     ]
    }
   ],
   "source": [
    "def get_odds_data() -> pd.DataFrame:\n",
    "    \"\"\"Get the data for the election winner betting odds.\"\"\"\n",
    "\n",
    "    # --- read the data - make PeriodIndex - remove duplicate indices\n",
    "    file_name = \"../betting-data/sportsbet-2028-election-winner.csv\"\n",
    "    df: pd.DataFrame = pd.read_csv(file_name, index_col=0)\n",
    "    df = df.pivot(columns=\"Party\").droplevel(\n",
    "        level=0, axis=1\n",
    "    )  # remove hierarchical column index\n",
    "    df.index = pd.PeriodIndex(df.index, freq=\"D\")\n",
    "    df = df[~df.index.duplicated(keep=\"first\")].sort_index()\n",
    "\n",
    "    # --- column amalgamations (manage data discontinuities)\n",
    "    amalg_set = [\n",
    "        [\"Liberal and/or Nationals\", \"Coalition\"],\n",
    "        # add as needed\n",
    "    ]\n",
    "    for columns in amalg_set:\n",
    "        df = amalg_columns(df, columns)\n",
    "\n",
    "    # --- fill in missing dates - this will be useful for plotting\n",
    "    new_index = pd.period_range(start=df.index.min(), end=df.index.max(), freq=\"D\")\n",
    "    df = df.reindex(new_index, fill_value=None)\n",
    "\n",
    "    # --- print tail of \"Any Other Result\" then drop the column\n",
    "    remove = \"Any Other Result\"\n",
    "    print(remove, \"\\n\", df[remove].tail())\n",
    "    df = df.drop(columns=remove, errors=\"ignore\")\n",
    "\n",
    "    return df\n",
    "\n",
    "\n",
    "core_odds = get_odds_data()"
   ]
  },
  {
   "cell_type": "markdown",
   "id": "f63caceb-bc2e-4976-856e-1e0251ca9e82",
   "metadata": {},
   "source": [
    "## Make some charts"
   ]
  },
  {
   "cell_type": "code",
   "execution_count": 7,
   "id": "5fe9bc58",
   "metadata": {},
   "outputs": [],
   "source": [
    "def limit_data(df: pd.DataFrame, start: int | pd.Period) -> pd.DataFrame:\n",
    "    \"\"\"Limit the data to a specific start date or index.\"\"\"\n",
    "\n",
    "    if isinstance(start, int):\n",
    "        this_data = df.iloc[start:]\n",
    "    else:\n",
    "        this_data = df.loc[df.index >= start]\n",
    "\n",
    "    return this_data"
   ]
  },
  {
   "cell_type": "code",
   "execution_count": 8,
   "id": "8e180a07-a0df-4912-8e3c-0251724ba2df",
   "metadata": {},
   "outputs": [
    {
     "data": {
      "image/png": "[encoded data removed]",
      "text/plain": [
       "<Figure size 900x450 with 1 Axes>"
      ]
     },
     "metadata": {},
     "output_type": "display_data"
    }
   ],
   "source": [
    "def plot_party_odds(\n",
    "    df: pd.DataFrame,\n",
    "    starts: tuple[int | pd.Period, ...] = (0,),\n",
    ") -> None:\n",
    "    \"\"\"\n",
    "    Plot the party odds to win the next Australian Federal election.\n",
    "    \"\"\"\n",
    "\n",
    "    colors = mg.colorise_list(df.columns)\n",
    "    mg.multi_start(\n",
    "        df,\n",
    "        function=mg.line_plot_finalise,\n",
    "        starts=starts,\n",
    "        color=colors,\n",
    "        title=\"Odds to win the next Australian Federal election\",\n",
    "        xlabel=None,\n",
    "        ylabel=\"Decimal Odds ($)\",\n",
    "        legend=True,\n",
    "        width=3,\n",
    "        annotate=True,\n",
    "        rounding=2,\n",
    "        dropna=False,\n",
    "        **footers,\n",
    "        show=SHOW,\n",
    "    )\n",
    "\n",
    "\n",
    "plot_party_odds(core_odds)"
   ]
  },
  {
   "cell_type": "code",
   "execution_count": 9,
   "id": "d0a8949a",
   "metadata": {
    "ExecuteTime": {
     "end_time": "2022-03-22T19:52:01.284756Z",
     "start_time": "2022-03-22T19:52:01.282126Z"
    }
   },
   "outputs": [],
   "source": [
    "def convert(odds: pd.DataFrame) -> pd.DataFrame:\n",
    "    \"\"\"\n",
    "    Convert decimal odds to adjusted probabilities\n",
    "    (ie, scaled to sum to one; addressing the bookmaker's over-round).\n",
    "    \"\"\"\n",
    "\n",
    "    # get raw probabilities\n",
    "    raw_probs = 1 / odds\n",
    "\n",
    "    # remove the bookmakers over-round\n",
    "    total = raw_probs.sum(axis=1)\n",
    "    probability = raw_probs.div(total, axis=0)\n",
    "\n",
    "    return probability * 100  # convert to percentage\n",
    "\n",
    "\n",
    "adj_probs = convert(core_odds)"
   ]
  },
  {
   "cell_type": "code",
   "execution_count": 10,
   "id": "1e69b5d3-f59a-41f6-9046-c2b65e4796a6",
   "metadata": {},
   "outputs": [
    {
     "data": {
      "image/png": "[encoded data removed]",
      "text/plain": [
       "<Figure size 900x450 with 1 Axes>"
      ]
     },
     "metadata": {},
     "output_type": "display_data"
    }
   ],
   "source": [
    "def plot_probabilities(\n",
    "    df: pd.DataFrame,\n",
    "    starts: tuple[int | pd.Period, ...] = (0,),\n",
    ") -> None:\n",
    "    \"\"\"Plot the adjusted probabilities of winning the next election.\"\"\"\n",
    "\n",
    "    colors = mg.colorise_list(df.columns)\n",
    "    lfooter = (\n",
    "        \"Probabilities adjusted for bookmaker's overround. \"\n",
    "        \"Long-shot odds ignored when calculating probabilities. \"\n",
    "    )\n",
    "    mg.multi_start(\n",
    "        df,\n",
    "        function=mg.line_plot_finalise,\n",
    "        starts=starts,\n",
    "        color=colors,\n",
    "        title=\"Probability to win the next Australian Federal election\",\n",
    "        xlabel=None,\n",
    "        ylabel=\"Probability (%)\",\n",
    "        legend=True,\n",
    "        width=3,\n",
    "        annotate=True,\n",
    "        rounding=1,\n",
    "        dropna=False,\n",
    "        lfooter=lfooter,\n",
    "        rfooter=RFOOTER,\n",
    "        show=SHOW,\n",
    "    )\n",
    "\n",
    "\n",
    "plot_probabilities(adj_probs)"
   ]
  },
  {
   "cell_type": "markdown",
   "id": "27680ec7-61f8-41e0-b518-bdaf23e74a15",
   "metadata": {},
   "source": [
    "## Finished"
   ]
  },
  {
   "cell_type": "code",
   "execution_count": 11,
   "id": "164b1e93-89a0-4bc8-b578-ba19de4e3a18",
   "metadata": {},
   "outputs": [
    {
     "name": "stdout",
     "output_type": "stream",
     "text": [
      "Last updated: 2025-06-11 15:55:39\n",
      "\n",
      "Python implementation: CPython\n",
      "Python version       : 3.13.3\n",
      "IPython version      : 9.3.0\n",
      "\n",
      "conda environment: n/a\n",
      "\n",
      "Compiler    : Clang 20.1.0 \n",
      "OS          : Darwin\n",
      "Release     : 24.5.0\n",
      "Machine     : arm64\n",
      "Processor   : arm\n",
      "CPU cores   : 14\n",
      "Architecture: 64bit\n",
      "\n",
      "pandas: 2.3.0\n",
      "mgplot: 0.1.10\n",
      "\n",
      "Watermark: 2.5.0\n",
      "\n"
     ]
    }
   ],
   "source": [
    "%load_ext watermark\n",
    "%watermark -t -d -u --python --machine --conda --iversions --watermark"
   ]
  },
  {
   "cell_type": "code",
   "execution_count": 12,
   "id": "2d92a673-64f5-4d67-a1b9-893bc1be4cc6",
   "metadata": {},
   "outputs": [
    {
     "name": "stdout",
     "output_type": "stream",
     "text": [
      "It is done\n"
     ]
    }
   ],
   "source": [
    "print(\"It is done\")"
   ]
  }
 ],
 "metadata": {
  "kernelspec": {
   "display_name": ".venv",
   "language": "python",
   "name": "python3"
  },
  "language_info": {
   "codemirror_mode": {
    "name": "ipython",
    "version": 3
   },
   "file_extension": ".py",
   "mimetype": "text/x-python",
   "name": "python",
   "nbconvert_exporter": "python",
   "pygments_lexer": "ipython3",
   "version": "3.13.3"
  },
  "toc": {
   "base_numbering": 1,
   "nav_menu": {},
   "number_sections": true,
   "sideBar": true,
   "skip_h1_title": true,
   "title_cell": "Table of Contents",
   "title_sidebar": "Contents",
   "toc_cell": true,
   "toc_position": {},
   "toc_section_display": true,
   "toc_window_display": true
  }
 },
 "nbformat": 4,
 "nbformat_minor": 5
}
