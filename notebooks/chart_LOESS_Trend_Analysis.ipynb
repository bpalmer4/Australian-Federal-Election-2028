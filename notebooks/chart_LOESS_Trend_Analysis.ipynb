{
 "cells": [
  {
   "cell_type": "markdown",
   "metadata": {},
   "source": [
    "# LOESS Trend Analysis"
   ]
  },
  {
   "cell_type": "code",
   "execution_count": 1,
   "metadata": {},
   "outputs": [],
   "source": [
    "from pathlib import Path\n",
    "\n",
    "import pandas as pd\n",
    "import numpy as np\n",
    "import matplotlib.pyplot as plt\n",
    "import mgplot as mg\n",
    "from statsmodels.nonparametric.smoothers_lowess import lowess\n",
    "\n",
    "from common import RFOOTER\n",
    "LFOOTER = \"Australia. Polling data sourced from Wikipedia. \"\n",
    "SHOW_PLOT = False"
   ]
  },
  {
   "cell_type": "code",
   "execution_count": 2,
   "metadata": {},
   "outputs": [],
   "source": [
    "# Set up plotting directory\n",
    "mg.set_chart_dir(\"../charts/LOESS-trend/\")\n",
    "mg.clear_chart_dir()"
   ]
  },
  {
   "cell_type": "markdown",
   "metadata": {},
   "source": [
    "## Upload the data"
   ]
  },
  {
   "cell_type": "code",
   "execution_count": 3,
   "metadata": {},
   "outputs": [
    {
     "name": "stdout",
     "output_type": "stream",
     "text": [
      "Using today's data file: ../poll-data/voting_intention_next_2025-07-23.csv\n",
      "Index(['Date', 'Brand', 'Interview mode', 'Sample size', 'Primary vote ALP',\n",
      "       'Primary vote L/NP', 'Primary vote GRN', 'Primary vote ONP',\n",
      "       'Primary vote IND', 'Primary vote OTH', 'Primary vote UND',\n",
      "       '2PP vote ALP', '2PP vote L/NP', 'parsed_date'],\n",
      "      dtype='object')\n"
     ]
    }
   ],
   "source": [
    "def load_polling_data() -> pd.DataFrame:\n",
    "    \"\"\"Load the most recent polling data with data freshness validation.\"\"\"\n",
    "    today = pd.Timestamp.now().strftime('%Y-%m-%d')\n",
    "    data_dir = Path(\"../poll-data\")\n",
    "\n",
    "    # Look for today's file first\n",
    "    today_file = data_dir / f\"voting_intention_next_{today}.csv\"\n",
    "    fallback_file = data_dir / \"voting_intention_next.csv\"\n",
    "\n",
    "    if today_file.exists():\n",
    "        data_path = today_file\n",
    "        print(f\"Using today's data file: {data_path}\")\n",
    "    else:\n",
    "        # Look for any recent file with date suffix\n",
    "        pattern = \"voting_intention_next_*.csv\"\n",
    "        recent_files = list(data_dir.glob(pattern))\n",
    "        \n",
    "        if recent_files:\n",
    "            # Sort by filename (date suffix) and take most recent\n",
    "            most_recent = sorted(recent_files)[-1]\n",
    "            file_date = most_recent.stem.split('_')[-1]  # Extract date from filename\n",
    "            \n",
    "            print(f\"⚠️  WARNING: No data file found for today ({today})\")\n",
    "            print(f\"Using most recent file: {most_recent} (from {file_date})\")\n",
    "            print(f\"Consider running the scraper first: python scrape_wikipedia_polls.py\")\n",
    "            data_path = most_recent\n",
    "        elif fallback_file.exists():\n",
    "            print(f\"⚠️  WARNING: No dated data files found\")\n",
    "            print(f\"Using fallback file: {fallback_file}\")\n",
    "            print(f\"Consider running the scraper first: python scrape_wikipedia_polls.py\")\n",
    "            data_path = fallback_file\n",
    "        else:\n",
    "            raise FileNotFoundError(f\"No polling data files found. Please run the scraper first: python scrape_wikipedia_polls.py\")\n",
    "\n",
    "    # Load the data\n",
    "    df = pd.read_csv(data_path)\n",
    "    print(df.columns)\n",
    "    df.index = pd.PeriodIndex(df['parsed_date'], freq='D')\n",
    "\n",
    "    df = df.dropna(axis=1, how='all')  # drop all NAN columns\n",
    "\n",
    "    return df\n",
    "\n",
    "\n",
    "data = load_polling_data()"
   ]
  },
  {
   "cell_type": "markdown",
   "metadata": {},
   "source": [
    "## Data Preview"
   ]
  },
  {
   "cell_type": "code",
   "execution_count": 4,
   "metadata": {},
   "outputs": [
    {
     "data": {
      "application/vnd.microsoft.datawrangler.viewer.v0+json": {
       "columns": [
        {
         "name": "parsed_date",
         "rawType": "period[D]",
         "type": "unknown"
        },
        {
         "name": "Date",
         "rawType": "object",
         "type": "string"
        },
        {
         "name": "Brand",
         "rawType": "object",
         "type": "string"
        },
        {
         "name": "Interview mode",
         "rawType": "object",
         "type": "string"
        },
        {
         "name": "Sample size",
         "rawType": "int64",
         "type": "integer"
        },
        {
         "name": "Primary vote ALP",
         "rawType": "float64",
         "type": "float"
        },
        {
         "name": "Primary vote L/NP",
         "rawType": "float64",
         "type": "float"
        },
        {
         "name": "Primary vote GRN",
         "rawType": "float64",
         "type": "float"
        },
        {
         "name": "Primary vote ONP",
         "rawType": "float64",
         "type": "float"
        },
        {
         "name": "Primary vote IND",
         "rawType": "float64",
         "type": "float"
        },
        {
         "name": "Primary vote OTH",
         "rawType": "float64",
         "type": "float"
        },
        {
         "name": "2PP vote ALP",
         "rawType": "float64",
         "type": "float"
        },
        {
         "name": "2PP vote L/NP",
         "rawType": "float64",
         "type": "float"
        },
        {
         "name": "parsed_date",
         "rawType": "object",
         "type": "string"
        }
       ],
       "ref": "d28cc1ad-62e7-4fef-86c7-0eeff014f896",
       "rows": [
        [
         "2025-07-15",
         "13 – 18 Jul 2025",
         "Resolve",
         "Telephone/Online",
         "2311",
         "35.0",
         "29.0",
         "12.0",
         "8.0",
         "8.0",
         "8.0",
         "56.0",
         "44.0",
         "2025-07-15"
        ],
        [
         "2025-07-15",
         "14 – 17 Jul 2025",
         "Newspoll",
         "Online",
         "1264",
         "36.0",
         "29.0",
         "12.0",
         "8.0",
         null,
         "15.0",
         "57.0",
         "43.0",
         "2025-07-15"
        ],
        [
         "2025-07-05",
         "5 – 6 Jul 2025",
         "DemosAU",
         "Online",
         "1199",
         "36.0",
         "26.0",
         "14.0",
         "9.0",
         null,
         "15.0",
         "59.0",
         "41.0",
         "2025-07-05"
        ],
        [
         "2025-06-29",
         "27 Jun – 1 Jul 2025",
         "Spectre Strategy",
         "Online",
         "1001",
         "35.9",
         "31.0",
         "12.8",
         "7.9",
         null,
         "12.3",
         "56.5",
         "43.5",
         "2025-06-29"
        ],
        [
         "2025-06-25",
         "Late June 2025",
         "Redbridge",
         "Online",
         "4036",
         null,
         null,
         null,
         null,
         null,
         null,
         "55.5",
         "44.5",
         "2025-06-25"
        ],
        [
         "2025-06-26",
         "23 – 29 Jun 2025",
         "Roy Morgan",
         "Online",
         "1522",
         "36.5",
         "30.5",
         "12.0",
         "8.5",
         null,
         "12.5",
         "57.5",
         "42.5",
         "2025-06-26"
        ],
        [
         "2025-06-12",
         "2 – 22 Jun 2025",
         "Roy Morgan",
         "Online",
         "3957",
         "37.5",
         "31.0",
         "12.0",
         "6.0",
         null,
         "13.5",
         "58.0",
         "42.0",
         "2025-06-12"
        ],
        [
         "2025-05-18",
         "5 May – 1 Jun 2025",
         "Roy Morgan",
         "Online",
         "5128",
         "37.0",
         "31.0",
         "11.5",
         "6.0",
         null,
         "14.5",
         "58.5",
         "41.5",
         "2025-05-18"
        ]
       ],
       "shape": {
        "columns": 13,
        "rows": 8
       }
      },
      "text/html": [
       "<div>\n",
       "<style scoped>\n",
       "    .dataframe tbody tr th:only-of-type {\n",
       "        vertical-align: middle;\n",
       "    }\n",
       "\n",
       "    .dataframe tbody tr th {\n",
       "        vertical-align: top;\n",
       "    }\n",
       "\n",
       "    .dataframe thead th {\n",
       "        text-align: right;\n",
       "    }\n",
       "</style>\n",
       "<table border=\"1\" class=\"dataframe\">\n",
       "  <thead>\n",
       "    <tr style=\"text-align: right;\">\n",
       "      <th></th>\n",
       "      <th>Date</th>\n",
       "      <th>Brand</th>\n",
       "      <th>Interview mode</th>\n",
       "      <th>Sample size</th>\n",
       "      <th>Primary vote ALP</th>\n",
       "      <th>Primary vote L/NP</th>\n",
       "      <th>Primary vote GRN</th>\n",
       "      <th>Primary vote ONP</th>\n",
       "      <th>Primary vote IND</th>\n",
       "      <th>Primary vote OTH</th>\n",
       "      <th>2PP vote ALP</th>\n",
       "      <th>2PP vote L/NP</th>\n",
       "      <th>parsed_date</th>\n",
       "    </tr>\n",
       "    <tr>\n",
       "      <th>parsed_date</th>\n",
       "      <th></th>\n",
       "      <th></th>\n",
       "      <th></th>\n",
       "      <th></th>\n",
       "      <th></th>\n",
       "      <th></th>\n",
       "      <th></th>\n",
       "      <th></th>\n",
       "      <th></th>\n",
       "      <th></th>\n",
       "      <th></th>\n",
       "      <th></th>\n",
       "      <th></th>\n",
       "    </tr>\n",
       "  </thead>\n",
       "  <tbody>\n",
       "    <tr>\n",
       "      <th>2025-07-15</th>\n",
       "      <td>13 – 18 Jul 2025</td>\n",
       "      <td>Resolve</td>\n",
       "      <td>Telephone/Online</td>\n",
       "      <td>2311</td>\n",
       "      <td>35.0</td>\n",
       "      <td>29.0</td>\n",
       "      <td>12.0</td>\n",
       "      <td>8.0</td>\n",
       "      <td>8.0</td>\n",
       "      <td>8.0</td>\n",
       "      <td>56.0</td>\n",
       "      <td>44.0</td>\n",
       "      <td>2025-07-15</td>\n",
       "    </tr>\n",
       "    <tr>\n",
       "      <th>2025-07-15</th>\n",
       "      <td>14 – 17 Jul 2025</td>\n",
       "      <td>Newspoll</td>\n",
       "      <td>Online</td>\n",
       "      <td>1264</td>\n",
       "      <td>36.0</td>\n",
       "      <td>29.0</td>\n",
       "      <td>12.0</td>\n",
       "      <td>8.0</td>\n",
       "      <td>NaN</td>\n",
       "      <td>15.0</td>\n",
       "      <td>57.0</td>\n",
       "      <td>43.0</td>\n",
       "      <td>2025-07-15</td>\n",
       "    </tr>\n",
       "    <tr>\n",
       "      <th>2025-07-05</th>\n",
       "      <td>5 – 6 Jul 2025</td>\n",
       "      <td>DemosAU</td>\n",
       "      <td>Online</td>\n",
       "      <td>1199</td>\n",
       "      <td>36.0</td>\n",
       "      <td>26.0</td>\n",
       "      <td>14.0</td>\n",
       "      <td>9.0</td>\n",
       "      <td>NaN</td>\n",
       "      <td>15.0</td>\n",
       "      <td>59.0</td>\n",
       "      <td>41.0</td>\n",
       "      <td>2025-07-05</td>\n",
       "    </tr>\n",
       "    <tr>\n",
       "      <th>2025-06-29</th>\n",
       "      <td>27 Jun – 1 Jul 2025</td>\n",
       "      <td>Spectre Strategy</td>\n",
       "      <td>Online</td>\n",
       "      <td>1001</td>\n",
       "      <td>35.9</td>\n",
       "      <td>31.0</td>\n",
       "      <td>12.8</td>\n",
       "      <td>7.9</td>\n",
       "      <td>NaN</td>\n",
       "      <td>12.3</td>\n",
       "      <td>56.5</td>\n",
       "      <td>43.5</td>\n",
       "      <td>2025-06-29</td>\n",
       "    </tr>\n",
       "    <tr>\n",
       "      <th>2025-06-25</th>\n",
       "      <td>Late June 2025</td>\n",
       "      <td>Redbridge</td>\n",
       "      <td>Online</td>\n",
       "      <td>4036</td>\n",
       "      <td>NaN</td>\n",
       "      <td>NaN</td>\n",
       "      <td>NaN</td>\n",
       "      <td>NaN</td>\n",
       "      <td>NaN</td>\n",
       "      <td>NaN</td>\n",
       "      <td>55.5</td>\n",
       "      <td>44.5</td>\n",
       "      <td>2025-06-25</td>\n",
       "    </tr>\n",
       "    <tr>\n",
       "      <th>2025-06-26</th>\n",
       "      <td>23 – 29 Jun 2025</td>\n",
       "      <td>Roy Morgan</td>\n",
       "      <td>Online</td>\n",
       "      <td>1522</td>\n",
       "      <td>36.5</td>\n",
       "      <td>30.5</td>\n",
       "      <td>12.0</td>\n",
       "      <td>8.5</td>\n",
       "      <td>NaN</td>\n",
       "      <td>12.5</td>\n",
       "      <td>57.5</td>\n",
       "      <td>42.5</td>\n",
       "      <td>2025-06-26</td>\n",
       "    </tr>\n",
       "    <tr>\n",
       "      <th>2025-06-12</th>\n",
       "      <td>2 – 22 Jun 2025</td>\n",
       "      <td>Roy Morgan</td>\n",
       "      <td>Online</td>\n",
       "      <td>3957</td>\n",
       "      <td>37.5</td>\n",
       "      <td>31.0</td>\n",
       "      <td>12.0</td>\n",
       "      <td>6.0</td>\n",
       "      <td>NaN</td>\n",
       "      <td>13.5</td>\n",
       "      <td>58.0</td>\n",
       "      <td>42.0</td>\n",
       "      <td>2025-06-12</td>\n",
       "    </tr>\n",
       "    <tr>\n",
       "      <th>2025-05-18</th>\n",
       "      <td>5 May – 1 Jun 2025</td>\n",
       "      <td>Roy Morgan</td>\n",
       "      <td>Online</td>\n",
       "      <td>5128</td>\n",
       "      <td>37.0</td>\n",
       "      <td>31.0</td>\n",
       "      <td>11.5</td>\n",
       "      <td>6.0</td>\n",
       "      <td>NaN</td>\n",
       "      <td>14.5</td>\n",
       "      <td>58.5</td>\n",
       "      <td>41.5</td>\n",
       "      <td>2025-05-18</td>\n",
       "    </tr>\n",
       "  </tbody>\n",
       "</table>\n",
       "</div>"
      ],
      "text/plain": [
       "                            Date             Brand    Interview mode  \\\n",
       "parsed_date                                                            \n",
       "2025-07-15      13 – 18 Jul 2025           Resolve  Telephone/Online   \n",
       "2025-07-15      14 – 17 Jul 2025          Newspoll            Online   \n",
       "2025-07-05        5 – 6 Jul 2025           DemosAU            Online   \n",
       "2025-06-29   27 Jun – 1 Jul 2025  Spectre Strategy            Online   \n",
       "2025-06-25        Late June 2025         Redbridge            Online   \n",
       "2025-06-26      23 – 29 Jun 2025        Roy Morgan            Online   \n",
       "2025-06-12       2 – 22 Jun 2025        Roy Morgan            Online   \n",
       "2025-05-18    5 May – 1 Jun 2025        Roy Morgan            Online   \n",
       "\n",
       "             Sample size  Primary vote ALP  Primary vote L/NP  \\\n",
       "parsed_date                                                     \n",
       "2025-07-15          2311              35.0               29.0   \n",
       "2025-07-15          1264              36.0               29.0   \n",
       "2025-07-05          1199              36.0               26.0   \n",
       "2025-06-29          1001              35.9               31.0   \n",
       "2025-06-25          4036               NaN                NaN   \n",
       "2025-06-26          1522              36.5               30.5   \n",
       "2025-06-12          3957              37.5               31.0   \n",
       "2025-05-18          5128              37.0               31.0   \n",
       "\n",
       "             Primary vote GRN  Primary vote ONP  Primary vote IND  \\\n",
       "parsed_date                                                         \n",
       "2025-07-15               12.0               8.0               8.0   \n",
       "2025-07-15               12.0               8.0               NaN   \n",
       "2025-07-05               14.0               9.0               NaN   \n",
       "2025-06-29               12.8               7.9               NaN   \n",
       "2025-06-25                NaN               NaN               NaN   \n",
       "2025-06-26               12.0               8.5               NaN   \n",
       "2025-06-12               12.0               6.0               NaN   \n",
       "2025-05-18               11.5               6.0               NaN   \n",
       "\n",
       "             Primary vote OTH  2PP vote ALP  2PP vote L/NP parsed_date  \n",
       "parsed_date                                                             \n",
       "2025-07-15                8.0          56.0           44.0  2025-07-15  \n",
       "2025-07-15               15.0          57.0           43.0  2025-07-15  \n",
       "2025-07-05               15.0          59.0           41.0  2025-07-05  \n",
       "2025-06-29               12.3          56.5           43.5  2025-06-29  \n",
       "2025-06-25                NaN          55.5           44.5  2025-06-25  \n",
       "2025-06-26               12.5          57.5           42.5  2025-06-26  \n",
       "2025-06-12               13.5          58.0           42.0  2025-06-12  \n",
       "2025-05-18               14.5          58.5           41.5  2025-05-18  "
      ]
     },
     "metadata": {},
     "output_type": "display_data"
    }
   ],
   "source": [
    "def preview_polling_data(data: pd.DataFrame) -> None:\n",
    "    \"\"\"Display a preview of the polling data.\"\"\"\n",
    "    display(data.head(10))\n",
    "\n",
    "# Show the data preview\n",
    "preview_polling_data(data)"
   ]
  },
  {
   "cell_type": "markdown",
   "metadata": {},
   "source": [
    "## LOESS Smoothing"
   ]
  },
  {
   "cell_type": "code",
   "execution_count": 5,
   "metadata": {},
   "outputs": [],
   "source": [
    "def create_loess_smoothing(data: pd.DataFrame, column: str, day_span=90) -> pd.Series:\n",
    "    \"\"\"Create LOESS smoothing and return smoothed data.\"\"\"\n",
    "    # Sort by index (PeriodIndex) instead of 'date' column to avoid ambiguity\n",
    "    df_2pp_sorted = data.sort_index().copy()\n",
    "    \n",
    "    # Apply LOESS smoothing\n",
    "    series = df_2pp_sorted[column].dropna()\n",
    "    dates_as_ordinals = [p.ordinal for p in series.index]\n",
    "    denominator = np.max(dates_as_ordinals) - np.min(dates_as_ordinals)\n",
    "    fraction = day_span / denominator if denominator else 1\n",
    "    fraction = fraction if fraction < 1 else 1\n",
    "    smoothed = lowess(\n",
    "        df_2pp_sorted[column].dropna(), \n",
    "        dates_as_ordinals,\n",
    "        frac=fraction  # Smoothing parameter - adjust as needed\n",
    "    )\n",
    "    smoothed_series = pd.Series(smoothed[:, 1], index=series.index)\n",
    "    smoothed_series.name = f'LOESS {day_span}-day smoothing'\n",
    "    smoothed_series = smoothed_series[~smoothed_series.index.duplicated(keep='first')]\n",
    "    return smoothed_series"
   ]
  },
  {
   "cell_type": "code",
   "execution_count": 6,
   "metadata": {},
   "outputs": [],
   "source": [
    "def create_chart_with_loess(df_2pp: pd.DataFrame, smoothed: pd.Series, color: str, name: str, col: str, f:str=\"\") -> None:\n",
    "    \"\"\"Create and display the LOESS chart with polling data.\"\"\"\n",
    "\n",
    "    fig, ax = plt.subplots()\n",
    "    symbols = ['o', 's', '^', 'v', '<', '>', 'D', 'x', 'v']\n",
    "    for i, label in enumerate(sorted(df_2pp['Brand'].unique())):\n",
    "        selection = df_2pp[df_2pp['Brand'] == label][col]\n",
    "        x = [p.ordinal  for p in selection.index]\n",
    "        y = selection.to_numpy()\n",
    "        ax.scatter(x, y, label=label, color=color, s=20, marker=symbols[i % len(symbols)])\n",
    "\n",
    "    mg.line_plot_finalise(\n",
    "        smoothed,\n",
    "        ax=ax,\n",
    "        title=f\"{name} - {col} - Trend\",\n",
    "        xlabel=None,\n",
    "        ylabel=f\"{col} (%)\",\n",
    "        legend=True,\n",
    "        width=2.5,\n",
    "        color=color,\n",
    "        rfooter=RFOOTER,\n",
    "        lfooter=f\"{LFOOTER} {f}\",\n",
    "        show=SHOW_PLOT,\n",
    "    )"
   ]
  },
  {
   "cell_type": "code",
   "execution_count": 7,
   "metadata": {},
   "outputs": [
    {
     "name": "stdout",
     "output_type": "stream",
     "text": [
      "Warning: Data index appears to be missing 53 values, in line_plot. Check the data for completeness.\n",
      "Warning: Data index appears to be missing 53 values, in line_plot. Check the data for completeness.\n",
      "Warning: Data index appears to be missing 53 values, in line_plot. Check the data for completeness.\n",
      "Warning: Data index appears to be missing 53 values, in line_plot. Check the data for completeness.\n",
      "Warning: Data index appears to be missing 52 values, in line_plot. Check the data for completeness.\n",
      "Warning: Data index appears to be missing 52 values, in line_plot. Check the data for completeness.\n",
      "Warning: Data index appears to be missing 52 values, in line_plot. Check the data for completeness.\n"
     ]
    }
   ],
   "source": [
    "wanted = {\n",
    "    \"ALP\": ['Labor', \"#dd0000\"],\n",
    "    \"L/NP\": ['Coalition', \"#0000dd\"],\n",
    "    \"GRN\": ['Greens', \"#009900\"],\n",
    "    \"ONP\": ['One Nation', \"darkorange\"],\n",
    "}\n",
    "used = []\n",
    "for col in data.columns:\n",
    "    if \"vote\" not in col:\n",
    "        continue\n",
    "    for w in wanted:\n",
    "        if w in col:\n",
    "            used.append(col)\n",
    "            name, color = wanted[w]\n",
    "            smoothed = create_loess_smoothing(data, col)\n",
    "            create_chart_with_loess(data, smoothed, color, name, col,)\n",
    "\n",
    "# Create chart for \"Others Primary Vote\"\n",
    "remaining = [w for w in data.columns if w not in used and \"vote\" in w]\n",
    "col = 'Others Primary Vote'\n",
    "data[col] = data[remaining].sum(axis=1, skipna=True)\n",
    "smoothed = create_loess_smoothing(data, col)\n",
    "create_chart_with_loess(data, smoothed, \"grey\", \"Others\", col, f=f\"Others={remaining}. \")"
   ]
  },
  {
   "cell_type": "markdown",
   "metadata": {},
   "source": [
    "## Finished"
   ]
  },
  {
   "cell_type": "code",
   "execution_count": 8,
   "metadata": {},
   "outputs": [
    {
     "name": "stdout",
     "output_type": "stream",
     "text": [
      "Last updated: 2025-07-23 21:48:35\n",
      "\n",
      "Python implementation: CPython\n",
      "Python version       : 3.13.5\n",
      "IPython version      : 9.4.0\n",
      "\n",
      "conda environment: n/a\n",
      "\n",
      "Compiler    : Clang 20.1.4 \n",
      "OS          : Darwin\n",
      "Release     : 24.5.0\n",
      "Machine     : arm64\n",
      "Processor   : arm\n",
      "CPU cores   : 14\n",
      "Architecture: 64bit\n",
      "\n",
      "numpy      : 2.3.1\n",
      "matplotlib : 3.10.3\n",
      "mgplot     : 0.2.11\n",
      "pathlib    : 1.0.1\n",
      "pandas     : 2.3.1\n",
      "statsmodels: 0.14.5\n",
      "\n",
      "Watermark: 2.5.0\n",
      "\n"
     ]
    }
   ],
   "source": [
    "%load_ext watermark\n",
    "%watermark -t -d -u --python --machine --conda --iversions --watermark"
   ]
  },
  {
   "cell_type": "code",
   "execution_count": 9,
   "metadata": {},
   "outputs": [
    {
     "name": "stdout",
     "output_type": "stream",
     "text": [
      "The end.\n"
     ]
    }
   ],
   "source": [
    "print(\"The end.\")"
   ]
  }
 ],
 "metadata": {
  "kernelspec": {
   "display_name": "Australian-Federal-Election-2028",
   "language": "python",
   "name": "python3"
  },
  "language_info": {
   "codemirror_mode": {
    "name": "ipython",
    "version": 3
   },
   "file_extension": ".py",
   "mimetype": "text/x-python",
   "name": "python",
   "nbconvert_exporter": "python",
   "pygments_lexer": "ipython3",
   "version": "3.13.5"
  }
 },
 "nbformat": 4,
 "nbformat_minor": 4
}
