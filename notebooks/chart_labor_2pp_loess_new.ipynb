{
 "cells": [
  {
   "cell_type": "markdown",
   "metadata": {},
   "source": [
    "# Labor Two-Party Preferred Vote - LOESS Trend Analysis\n",
    "\n",
    "This notebook visualizes the trend in Labor's two-party preferred (2PP) vote using LOESS smoothing from Wikipedia polling data."
   ]
  },
  {
   "cell_type": "code",
   "execution_count": 1,
   "metadata": {},
   "outputs": [],
   "source": [
    "from pathlib import Path\n",
    "\n",
    "import pandas as pd\n",
    "import numpy as np\n",
    "import matplotlib.pyplot as plt\n",
    "import mgplot as mg\n",
    "from statsmodels.nonparametric.smoothers_lowess import lowess\n",
    "\n",
    "from common import RFOOTER, COLOR_LABOR\n",
    "LFOOTER = \"Data: Polling data from Wikipedia\"\n",
    "SHOW_PLOT = True\n"
   ]
  },
  {
   "cell_type": "code",
   "execution_count": 2,
   "metadata": {},
   "outputs": [],
   "source": [
    "# Set up plotting directory\n",
    "mg.set_chart_dir(\"../charts/labor-2pp/\")\n",
    "mg.clear_chart_dir()"
   ]
  },
  {
   "cell_type": "markdown",
   "metadata": {},
   "source": [
    "## Upload the data"
   ]
  },
  {
   "cell_type": "code",
   "execution_count": 3,
   "metadata": {},
   "outputs": [
    {
     "name": "stdout",
     "output_type": "stream",
     "text": [
      "Using today's data file: ../poll-data/voting_intention_next_2025-07-21.csv\n"
     ]
    }
   ],
   "source": [
    "def load_polling_data() -> pd.DataFrame:\n",
    "    \"\"\"Load the most recent polling data with data freshness validation.\"\"\"\n",
    "    today = pd.Timestamp.now().strftime('%Y-%m-%d')\n",
    "    data_dir = Path(\"../poll-data\")\n",
    "\n",
    "    # Look for today's file first\n",
    "    today_file = data_dir / f\"voting_intention_next_{today}.csv\"\n",
    "    fallback_file = data_dir / \"voting_intention_next.csv\"\n",
    "\n",
    "    if today_file.exists():\n",
    "        data_path = today_file\n",
    "        print(f\"Using today's data file: {data_path}\")\n",
    "    else:\n",
    "        # Look for any recent file with date suffix\n",
    "        pattern = \"voting_intention_next_*.csv\"\n",
    "        recent_files = list(data_dir.glob(pattern))\n",
    "        \n",
    "        if recent_files:\n",
    "            # Sort by filename (date suffix) and take most recent\n",
    "            most_recent = sorted(recent_files)[-1]\n",
    "            file_date = most_recent.stem.split('_')[-1]  # Extract date from filename\n",
    "            \n",
    "            print(f\"⚠️  WARNING: No data file found for today ({today})\")\n",
    "            print(f\"Using most recent file: {most_recent} (from {file_date})\")\n",
    "            print(f\"Consider running the scraper first: python scrape_wikipedia_polls.py\")\n",
    "            data_path = most_recent\n",
    "        elif fallback_file.exists():\n",
    "            print(f\"⚠️  WARNING: No dated data files found\")\n",
    "            print(f\"Using fallback file: {fallback_file}\")\n",
    "            print(f\"Consider running the scraper first: python scrape_wikipedia_polls.py\")\n",
    "            data_path = fallback_file\n",
    "        else:\n",
    "            raise FileNotFoundError(f\"No polling data files found. Please run the scraper first: python scrape_wikipedia_polls.py\")\n",
    "\n",
    "    # Load the data\n",
    "    df = pd.read_csv(data_path)\n",
    "    df.index = pd.PeriodIndex(df['date'], freq='D')\n",
    "\n",
    "    # Filter for rows with 2PP data\n",
    "    df_2pp = df[df['2pp_alp'].notna()].copy()\n",
    "\n",
    "    return df_2pp\n",
    "\n",
    "\n",
    "df_2pp = load_polling_data()"
   ]
  },
  {
   "cell_type": "markdown",
   "metadata": {},
   "source": [
    "## Data Preview"
   ]
  },
  {
   "cell_type": "code",
   "execution_count": 4,
   "metadata": {},
   "outputs": [
    {
     "data": {
      "application/vnd.microsoft.datawrangler.viewer.v0+json": {
       "columns": [
        {
         "name": "date",
         "rawType": "period[D]",
         "type": "unknown"
        },
        {
         "name": "original_date",
         "rawType": "object",
         "type": "string"
        },
        {
         "name": "date",
         "rawType": "object",
         "type": "string"
        },
        {
         "name": "brand",
         "rawType": "object",
         "type": "string"
        },
        {
         "name": "2pp_alp",
         "rawType": "float64",
         "type": "float"
        },
        {
         "name": "2pp_lnp",
         "rawType": "float64",
         "type": "float"
        }
       ],
       "ref": "eadf0e56-858e-4ce4-9012-bc34bd680d28",
       "rows": [
        [
         "2025-05-18",
         "5 May – 1 Jun 2025",
         "2025-05-18",
         "Roy Morgan",
         "58.5",
         "41.5"
        ],
        [
         "2025-06-12",
         "2 – 22 Jun 2025",
         "2025-06-12",
         "Roy Morgan",
         "58.0",
         "42.0"
        ],
        [
         "2025-06-25",
         "Late June 2025",
         "2025-06-25",
         "Redbridge",
         "55.5",
         "44.5"
        ],
        [
         "2025-06-26",
         "23 – 29 Jun 2025",
         "2025-06-26",
         "Roy Morgan",
         "57.5",
         "42.5"
        ],
        [
         "2025-06-29",
         "27 Jun – 1 Jul 2025",
         "2025-06-29",
         "Spectre Strategy",
         "56.5",
         "43.5"
        ],
        [
         "2025-07-05",
         "5 – 6 Jul 2025",
         "2025-07-05",
         "DemosAU",
         "59.0",
         "41.0"
        ],
        [
         "2025-07-15",
         "13 – 18 Jul 2025",
         "2025-07-15",
         "Resolve",
         "56.0",
         "44.0"
        ],
        [
         "2025-07-15",
         "14 – 17 Jul 2025",
         "2025-07-15",
         "Newspoll",
         "57.0",
         "43.0"
        ]
       ],
       "shape": {
        "columns": 5,
        "rows": 8
       }
      },
      "text/html": [
       "<div>\n",
       "<style scoped>\n",
       "    .dataframe tbody tr th:only-of-type {\n",
       "        vertical-align: middle;\n",
       "    }\n",
       "\n",
       "    .dataframe tbody tr th {\n",
       "        vertical-align: top;\n",
       "    }\n",
       "\n",
       "    .dataframe thead th {\n",
       "        text-align: right;\n",
       "    }\n",
       "</style>\n",
       "<table border=\"1\" class=\"dataframe\">\n",
       "  <thead>\n",
       "    <tr style=\"text-align: right;\">\n",
       "      <th></th>\n",
       "      <th>original_date</th>\n",
       "      <th>date</th>\n",
       "      <th>brand</th>\n",
       "      <th>2pp_alp</th>\n",
       "      <th>2pp_lnp</th>\n",
       "    </tr>\n",
       "    <tr>\n",
       "      <th>date</th>\n",
       "      <th></th>\n",
       "      <th></th>\n",
       "      <th></th>\n",
       "      <th></th>\n",
       "      <th></th>\n",
       "    </tr>\n",
       "  </thead>\n",
       "  <tbody>\n",
       "    <tr>\n",
       "      <th>2025-05-18</th>\n",
       "      <td>5 May – 1 Jun 2025</td>\n",
       "      <td>2025-05-18</td>\n",
       "      <td>Roy Morgan</td>\n",
       "      <td>58.5</td>\n",
       "      <td>41.5</td>\n",
       "    </tr>\n",
       "    <tr>\n",
       "      <th>2025-06-12</th>\n",
       "      <td>2 – 22 Jun 2025</td>\n",
       "      <td>2025-06-12</td>\n",
       "      <td>Roy Morgan</td>\n",
       "      <td>58.0</td>\n",
       "      <td>42.0</td>\n",
       "    </tr>\n",
       "    <tr>\n",
       "      <th>2025-06-25</th>\n",
       "      <td>Late June 2025</td>\n",
       "      <td>2025-06-25</td>\n",
       "      <td>Redbridge</td>\n",
       "      <td>55.5</td>\n",
       "      <td>44.5</td>\n",
       "    </tr>\n",
       "    <tr>\n",
       "      <th>2025-06-26</th>\n",
       "      <td>23 – 29 Jun 2025</td>\n",
       "      <td>2025-06-26</td>\n",
       "      <td>Roy Morgan</td>\n",
       "      <td>57.5</td>\n",
       "      <td>42.5</td>\n",
       "    </tr>\n",
       "    <tr>\n",
       "      <th>2025-06-29</th>\n",
       "      <td>27 Jun – 1 Jul 2025</td>\n",
       "      <td>2025-06-29</td>\n",
       "      <td>Spectre Strategy</td>\n",
       "      <td>56.5</td>\n",
       "      <td>43.5</td>\n",
       "    </tr>\n",
       "    <tr>\n",
       "      <th>2025-07-05</th>\n",
       "      <td>5 – 6 Jul 2025</td>\n",
       "      <td>2025-07-05</td>\n",
       "      <td>DemosAU</td>\n",
       "      <td>59.0</td>\n",
       "      <td>41.0</td>\n",
       "    </tr>\n",
       "    <tr>\n",
       "      <th>2025-07-15</th>\n",
       "      <td>13 – 18 Jul 2025</td>\n",
       "      <td>2025-07-15</td>\n",
       "      <td>Resolve</td>\n",
       "      <td>56.0</td>\n",
       "      <td>44.0</td>\n",
       "    </tr>\n",
       "    <tr>\n",
       "      <th>2025-07-15</th>\n",
       "      <td>14 – 17 Jul 2025</td>\n",
       "      <td>2025-07-15</td>\n",
       "      <td>Newspoll</td>\n",
       "      <td>57.0</td>\n",
       "      <td>43.0</td>\n",
       "    </tr>\n",
       "  </tbody>\n",
       "</table>\n",
       "</div>"
      ],
      "text/plain": [
       "                  original_date        date             brand  2pp_alp  \\\n",
       "date                                                                     \n",
       "2025-05-18   5 May – 1 Jun 2025  2025-05-18        Roy Morgan     58.5   \n",
       "2025-06-12      2 – 22 Jun 2025  2025-06-12        Roy Morgan     58.0   \n",
       "2025-06-25       Late June 2025  2025-06-25         Redbridge     55.5   \n",
       "2025-06-26     23 – 29 Jun 2025  2025-06-26        Roy Morgan     57.5   \n",
       "2025-06-29  27 Jun – 1 Jul 2025  2025-06-29  Spectre Strategy     56.5   \n",
       "2025-07-05       5 – 6 Jul 2025  2025-07-05           DemosAU     59.0   \n",
       "2025-07-15     13 – 18 Jul 2025  2025-07-15           Resolve     56.0   \n",
       "2025-07-15     14 – 17 Jul 2025  2025-07-15          Newspoll     57.0   \n",
       "\n",
       "            2pp_lnp  \n",
       "date                 \n",
       "2025-05-18     41.5  \n",
       "2025-06-12     42.0  \n",
       "2025-06-25     44.5  \n",
       "2025-06-26     42.5  \n",
       "2025-06-29     43.5  \n",
       "2025-07-05     41.0  \n",
       "2025-07-15     44.0  \n",
       "2025-07-15     43.0  "
      ]
     },
     "metadata": {},
     "output_type": "display_data"
    }
   ],
   "source": [
    "def preview_polling_data(df_2pp: pd.DataFrame) -> None:\n",
    "    \"\"\"Display a preview of the polling data.\"\"\"\n",
    "    display(df_2pp[['original_date', 'date', 'brand', '2pp_alp', '2pp_lnp']].head(10))\n",
    "\n",
    "# Show the data preview\n",
    "preview_polling_data(df_2pp)"
   ]
  },
  {
   "cell_type": "markdown",
   "metadata": {},
   "source": [
    "## LOESS Smoothing"
   ]
  },
  {
   "cell_type": "code",
   "execution_count": 5,
   "metadata": {},
   "outputs": [],
   "source": [
    "def create_loess_smoothing(df_2pp: pd.DataFrame, day_span=90) -> pd.Series:\n",
    "    \"\"\"Create LOESS smoothing and return smoothed data.\"\"\"\n",
    "    # Sort by index (PeriodIndex) instead of 'date' column to avoid ambiguity\n",
    "    df_2pp_sorted = df_2pp.sort_index().copy()\n",
    "    \n",
    "    # Convert period index to datetime for numeric conversion\n",
    "    dates_as_ordinals = [p.ordinal for p in df_2pp_sorted.index]\n",
    "    denominator = np.max(dates_as_ordinals) - np.min(dates_as_ordinals)\n",
    "    fraction = day_span / denominator if denominator else 1\n",
    "    fraction = fraction if fraction < 1 else 1\n",
    "\n",
    "    # Apply LOESS smoothing\n",
    "    smoothed = lowess(\n",
    "        df_2pp_sorted['2pp_alp'], \n",
    "        dates_as_ordinals,\n",
    "        frac=fraction  # Smoothing parameter - adjust as needed\n",
    "    )\n",
    "    smoothed_series = pd.Series(smoothed[:, 1], index=df_2pp_sorted.index)\n",
    "    smoothed_series.name = f'LOESS {day_span}-day smoothing'\n",
    "    smoothed_series = smoothed_series[~smoothed_series.index.duplicated(keep='first')]\n",
    "    return smoothed_series\n",
    "\n",
    "smoothed = create_loess_smoothing(df_2pp)"
   ]
  },
  {
   "cell_type": "markdown",
   "metadata": {},
   "source": [
    "## Data visualisation"
   ]
  },
  {
   "cell_type": "code",
   "execution_count": 6,
   "metadata": {},
   "outputs": [
    {
     "name": "stdout",
     "output_type": "stream",
     "text": [
      "Warning: Data index appears to be missing 52 values, in line_plot. Check the data for completeness.\n"
     ]
    },
    {
     "data": {
      "image/png": "[encoded data removed]",
      "text/plain": [
       "<Figure size 900x450 with 1 Axes>"
      ]
     },
     "metadata": {},
     "output_type": "display_data"
    }
   ],
   "source": [
    "def create_chart_with_loess(df_2pp: pd.DataFrame, smoothed: pd.Series) -> None:\n",
    "    \"\"\"Create and display the LOESS chart with polling data.\"\"\"\n",
    "\n",
    "    fig, ax = plt.subplots()\n",
    "    symbols = ['o', 's', '^', 'v', '<', '>', 'D', 'x', 'v']\n",
    "    for i, label in enumerate(df_2pp['brand'].unique()):\n",
    "        selection = df_2pp[df_2pp['brand'] == label]['2pp_alp']\n",
    "        x = [p.ordinal  for p in selection.index]\n",
    "        y = selection.to_numpy()\n",
    "        ax.scatter(x, y, label=label, color=COLOR_LABOR, s=20, marker=symbols[i % len(symbols)])\n",
    "\n",
    "    mg.line_plot_finalise(\n",
    "        smoothed,\n",
    "        ax=ax,\n",
    "        title=\"Labor Two-Party Preferred Vote Trend\",\n",
    "        xlabel=\"Date\",\n",
    "        ylabel=\"Two-Party Preferred Vote (%)\",\n",
    "        legend=True,\n",
    "        width=2.5,\n",
    "        rfooter=RFOOTER,\n",
    "        lfooter=LFOOTER,\n",
    "        show=SHOW_PLOT,\n",
    "    )\n",
    "\n",
    "# Create and display the chart\n",
    "create_chart_with_loess(df_2pp, smoothed)"
   ]
  },
  {
   "cell_type": "markdown",
   "metadata": {},
   "source": [
    "## Finished"
   ]
  },
  {
   "cell_type": "code",
   "execution_count": 7,
   "metadata": {},
   "outputs": [
    {
     "name": "stdout",
     "output_type": "stream",
     "text": [
      "Last updated: 2025-07-21 23:53:05\n",
      "\n",
      "Python implementation: CPython\n",
      "Python version       : 3.13.5\n",
      "IPython version      : 9.4.0\n",
      "\n",
      "conda environment: n/a\n",
      "\n",
      "Compiler    : Clang 20.1.4 \n",
      "OS          : Darwin\n",
      "Release     : 24.5.0\n",
      "Machine     : arm64\n",
      "Processor   : arm\n",
      "CPU cores   : 14\n",
      "Architecture: 64bit\n",
      "\n",
      "pathlib    : 1.0.1\n",
      "pandas     : 2.3.1\n",
      "mgplot     : 0.2.11\n",
      "matplotlib : 3.10.3\n",
      "statsmodels: 0.14.5\n",
      "numpy      : 2.3.1\n",
      "\n",
      "Watermark: 2.5.0\n",
      "\n"
     ]
    }
   ],
   "source": [
    "%load_ext watermark\n",
    "%watermark -t -d -u --python --machine --conda --iversions --watermark"
   ]
  },
  {
   "cell_type": "code",
   "execution_count": 8,
   "metadata": {},
   "outputs": [
    {
     "name": "stdout",
     "output_type": "stream",
     "text": [
      "The end.\n"
     ]
    }
   ],
   "source": [
    "print(\"The end.\")"
   ]
  }
 ],
 "metadata": {
  "kernelspec": {
   "display_name": "Australian-Federal-Election-2028",
   "language": "python",
   "name": "python3"
  },
  "language_info": {
   "codemirror_mode": {
    "name": "ipython",
    "version": 3
   },
   "file_extension": ".py",
   "mimetype": "text/x-python",
   "name": "python",
   "nbconvert_exporter": "python",
   "pygments_lexer": "ipython3",
   "version": "3.13.5"
  }
 },
 "nbformat": 4,
 "nbformat_minor": 4
}
