{
 "cells": [
  {
   "cell_type": "markdown",
   "id": "7b00fd31",
   "metadata": {},
   "source": [
    "# Chart election winner at sportsbet"
   ]
  },
  {
   "cell_type": "markdown",
   "id": "ca41c267",
   "metadata": {},
   "source": [
    "## Python set-up"
   ]
  },
  {
   "cell_type": "code",
   "execution_count": 1,
   "id": "7d3bc55b",
   "metadata": {
    "ExecuteTime": {
     "end_time": "2022-03-22T19:52:01.178597Z",
     "start_time": "2022-03-22T19:51:44.732031Z"
    }
   },
   "outputs": [],
   "source": [
    "import matplotlib.pyplot as plt\n",
    "import pandas as pd\n",
    "import mgplot as mg\n",
    "from common import RFOOTER"
   ]
  },
  {
   "cell_type": "code",
   "execution_count": 2,
   "id": "78633567",
   "metadata": {},
   "outputs": [],
   "source": [
    "# plotting constants\n",
    "LFOOTER = (\n",
    "    \"Betting odds observed daily at sportsbet.com.au \"\n",
    "    + \"(gaps = missing observations). \"\n",
    ")\n",
    "footers = {\"lfooter\": LFOOTER, \"rfooter\": RFOOTER}\n",
    "SHOW = True"
   ]
  },
  {
   "cell_type": "code",
   "execution_count": 3,
   "id": "83a66611-5498-49c8-bdc9-fd556d3b9b26",
   "metadata": {},
   "outputs": [],
   "source": [
    "# plotting directory set-up\n",
    "def set_up_plotting() -> None:\n",
    "    \"\"\"Set up plotting.\"\"\"\n",
    "\n",
    "    mg.set_chart_dir(\"../charts/election-winner/\")\n",
    "    mg.clear_chart_dir()\n",
    "\n",
    "\n",
    "set_up_plotting()"
   ]
  },
  {
   "cell_type": "markdown",
   "id": "b6ec3056",
   "metadata": {},
   "source": [
    "## Get data"
   ]
  },
  {
   "cell_type": "code",
   "execution_count": 4,
   "id": "3747b16d",
   "metadata": {
    "ExecuteTime": {
     "end_time": "2022-03-22T19:52:01.226870Z",
     "start_time": "2022-03-22T19:52:01.185106Z"
    }
   },
   "outputs": [
    {
     "data": {
      "application/vnd.microsoft.datawrangler.viewer.v0+json": {
       "columns": [
        {
         "name": "index",
         "rawType": "period[D]",
         "type": "unknown"
        },
        {
         "name": "Coalition",
         "rawType": "float64",
         "type": "float"
        },
        {
         "name": "Labor",
         "rawType": "float64",
         "type": "float"
        }
       ],
       "conversionMethod": "pd.DataFrame",
       "ref": "cf17063b-548e-43bf-bff2-b92d28c462d4",
       "rows": [
        [
         "2025-05-13",
         "3.55",
         "1.3"
        ],
        [
         "2025-05-14",
         "3.55",
         "1.3"
        ],
        [
         "2025-05-15",
         "3.55",
         "1.3"
        ],
        [
         "2025-05-16",
         "3.55",
         "1.3"
        ],
        [
         "2025-05-17",
         "3.55",
         "1.3"
        ]
       ],
       "shape": {
        "columns": 2,
        "rows": 5
       }
      },
      "text/html": [
       "<div>\n",
       "<style scoped>\n",
       "    .dataframe tbody tr th:only-of-type {\n",
       "        vertical-align: middle;\n",
       "    }\n",
       "\n",
       "    .dataframe tbody tr th {\n",
       "        vertical-align: top;\n",
       "    }\n",
       "\n",
       "    .dataframe thead th {\n",
       "        text-align: right;\n",
       "    }\n",
       "</style>\n",
       "<table border=\"1\" class=\"dataframe\">\n",
       "  <thead>\n",
       "    <tr style=\"text-align: right;\">\n",
       "      <th>Party</th>\n",
       "      <th>Coalition</th>\n",
       "      <th>Labor</th>\n",
       "    </tr>\n",
       "  </thead>\n",
       "  <tbody>\n",
       "    <tr>\n",
       "      <th>2025-05-13</th>\n",
       "      <td>3.55</td>\n",
       "      <td>1.3</td>\n",
       "    </tr>\n",
       "    <tr>\n",
       "      <th>2025-05-14</th>\n",
       "      <td>3.55</td>\n",
       "      <td>1.3</td>\n",
       "    </tr>\n",
       "    <tr>\n",
       "      <th>2025-05-15</th>\n",
       "      <td>3.55</td>\n",
       "      <td>1.3</td>\n",
       "    </tr>\n",
       "    <tr>\n",
       "      <th>2025-05-16</th>\n",
       "      <td>3.55</td>\n",
       "      <td>1.3</td>\n",
       "    </tr>\n",
       "    <tr>\n",
       "      <th>2025-05-17</th>\n",
       "      <td>3.55</td>\n",
       "      <td>1.3</td>\n",
       "    </tr>\n",
       "  </tbody>\n",
       "</table>\n",
       "</div>"
      ],
      "text/plain": [
       "Party       Coalition  Labor\n",
       "2025-05-13       3.55    1.3\n",
       "2025-05-14       3.55    1.3\n",
       "2025-05-15       3.55    1.3\n",
       "2025-05-16       3.55    1.3\n",
       "2025-05-17       3.55    1.3"
      ]
     },
     "metadata": {},
     "output_type": "display_data"
    },
    {
     "data": {
      "text/plain": [
       "2025-05-13    101.0\n",
       "2025-05-14    101.0\n",
       "2025-05-15    101.0\n",
       "2025-05-16    101.0\n",
       "2025-05-17    101.0\n",
       "Freq: D, Name: Any Other Result, dtype: float64"
      ]
     },
     "metadata": {},
     "output_type": "display_data"
    }
   ],
   "source": [
    "FILE = \"../betting-data/sportsbet-2028-election-winner.csv\"\n",
    "data = pd.read_csv(FILE, index_col=0, header=0, skiprows=None)\n",
    "data = (\n",
    "    data.pivot(columns=\"Party\")\n",
    "    .droplevel(level=0, axis=1)  # remove hierarchical column index\n",
    ")\n",
    "#data['Any Other Result'] = data['Any Other Result'].where(\n",
    "#    data['Any Other Result'].notna(),\n",
    "#    other=data['Any Other Party']\n",
    "#)\n",
    "# convert raw text date-times to period index\n",
    "data.index = pd.PeriodIndex(data.index, freq=\"D\") \n",
    "\n",
    "# remove any duplicate indices and sort\n",
    "data = data[~data.index.duplicated(keep=\"first\")].sort_index() \n",
    "\n",
    "# fill in missing dates - this will be useful for plotting\n",
    "new_index = pd.period_range(start=data.index.min(), end=data.index.max(), freq=\"D\")\n",
    "data = data.reindex(new_index, fill_value=None)\n",
    "\n",
    "any_other_result = data['Any Other Result']\n",
    "data = data.drop(columns=['Any Other Result'])\n",
    "\n",
    "if SHOW:\n",
    "    display(data.tail())\n",
    "    display(any_other_result.tail())"
   ]
  },
  {
   "cell_type": "markdown",
   "id": "f63caceb-bc2e-4976-856e-1e0251ca9e82",
   "metadata": {},
   "source": [
    "## Make some charts"
   ]
  },
  {
   "cell_type": "code",
   "execution_count": 5,
   "id": "8e180a07-a0df-4912-8e3c-0251724ba2df",
   "metadata": {},
   "outputs": [
    {
     "name": "stdout",
     "output_type": "stream",
     "text": [
      "2025-05-07 2025-05-17\n"
     ]
    },
    {
     "data": {
      "image/png": "[encoded data removed]",
      "text/plain": [
       "<Figure size 900x450 with 1 Axes>"
      ]
     },
     "metadata": {},
     "output_type": "display_data"
    }
   ],
   "source": [
    "colors = mg.colorise_list(data.columns)\n",
    "for start in (None,):\n",
    "    ax = None\n",
    "    this_data = data if start is None else data.loc[start:]\n",
    "    print(this_data.index[0], this_data.index[-1])\n",
    "    for column, color in zip(this_data.columns, colors):\n",
    "        ax = this_data[column].plot.line(color=color, ax=ax)\n",
    "    mg.finalise_plot(\n",
    "        ax,\n",
    "        title=\"Odds to win the next Australian Federal election\",\n",
    "        xlabel=None,\n",
    "        ylabel=\"$\",\n",
    "        legend=True,\n",
    "        concise_dates=True,\n",
    "        tag=\"\" if start is None else start,\n",
    "        **footers,\n",
    "        show=SHOW,\n",
    "    )"
   ]
  },
  {
   "cell_type": "code",
   "execution_count": 6,
   "id": "d0a8949a",
   "metadata": {
    "ExecuteTime": {
     "end_time": "2022-03-22T19:52:01.284756Z",
     "start_time": "2022-03-22T19:52:01.282126Z"
    }
   },
   "outputs": [
    {
     "data": {
      "application/vnd.microsoft.datawrangler.viewer.v0+json": {
       "columns": [
        {
         "name": "index",
         "rawType": "period[D]",
         "type": "unknown"
        },
        {
         "name": "Coalition",
         "rawType": "float64",
         "type": "float"
        },
        {
         "name": "Labor",
         "rawType": "float64",
         "type": "float"
        }
       ],
       "conversionMethod": "pd.DataFrame",
       "ref": "d517de71-545b-4efa-a449-8c124d4053b4",
       "rows": [
        [
         "2025-05-13",
         "26.8",
         "73.2"
        ],
        [
         "2025-05-14",
         "26.8",
         "73.2"
        ],
        [
         "2025-05-15",
         "26.8",
         "73.2"
        ],
        [
         "2025-05-16",
         "26.8",
         "73.2"
        ],
        [
         "2025-05-17",
         "26.8",
         "73.2"
        ]
       ],
       "shape": {
        "columns": 2,
        "rows": 5
       }
      },
      "text/html": [
       "<div>\n",
       "<style scoped>\n",
       "    .dataframe tbody tr th:only-of-type {\n",
       "        vertical-align: middle;\n",
       "    }\n",
       "\n",
       "    .dataframe tbody tr th {\n",
       "        vertical-align: top;\n",
       "    }\n",
       "\n",
       "    .dataframe thead th {\n",
       "        text-align: right;\n",
       "    }\n",
       "</style>\n",
       "<table border=\"1\" class=\"dataframe\">\n",
       "  <thead>\n",
       "    <tr style=\"text-align: right;\">\n",
       "      <th>Party</th>\n",
       "      <th>Coalition</th>\n",
       "      <th>Labor</th>\n",
       "    </tr>\n",
       "  </thead>\n",
       "  <tbody>\n",
       "    <tr>\n",
       "      <th>2025-05-13</th>\n",
       "      <td>26.8</td>\n",
       "      <td>73.2</td>\n",
       "    </tr>\n",
       "    <tr>\n",
       "      <th>2025-05-14</th>\n",
       "      <td>26.8</td>\n",
       "      <td>73.2</td>\n",
       "    </tr>\n",
       "    <tr>\n",
       "      <th>2025-05-15</th>\n",
       "      <td>26.8</td>\n",
       "      <td>73.2</td>\n",
       "    </tr>\n",
       "    <tr>\n",
       "      <th>2025-05-16</th>\n",
       "      <td>26.8</td>\n",
       "      <td>73.2</td>\n",
       "    </tr>\n",
       "    <tr>\n",
       "      <th>2025-05-17</th>\n",
       "      <td>26.8</td>\n",
       "      <td>73.2</td>\n",
       "    </tr>\n",
       "  </tbody>\n",
       "</table>\n",
       "</div>"
      ],
      "text/plain": [
       "Party       Coalition  Labor\n",
       "2025-05-13       26.8   73.2\n",
       "2025-05-14       26.8   73.2\n",
       "2025-05-15       26.8   73.2\n",
       "2025-05-16       26.8   73.2\n",
       "2025-05-17       26.8   73.2"
      ]
     },
     "metadata": {},
     "output_type": "display_data"
    }
   ],
   "source": [
    "def convert(odds: pd.DataFrame) -> pd.DataFrame:\n",
    "    # get raw probabilities\n",
    "    raw_probs = 1 / odds\n",
    "\n",
    "    # remove the bookmakers over-round\n",
    "    total = raw_probs.sum(axis=1)\n",
    "    adj_probs = raw_probs.div(total, axis=0)\n",
    "\n",
    "    return adj_probs\n",
    "adj_probs = convert(data) * 100\n",
    "\n",
    "if SHOW:\n",
    "    display(adj_probs.tail().round(2))"
   ]
  },
  {
   "cell_type": "code",
   "execution_count": 7,
   "id": "1e69b5d3-f59a-41f6-9046-c2b65e4796a6",
   "metadata": {},
   "outputs": [
    {
     "data": {
      "image/png": "[encoded data removed]",
      "text/plain": [
       "<Figure size 900x450 with 1 Axes>"
      ]
     },
     "metadata": {},
     "output_type": "display_data"
    }
   ],
   "source": [
    "for start in (None,):\n",
    "    ax = None\n",
    "    this_data = adj_probs if start is None else adj_probs.loc[start:]\n",
    "    for column, color in zip(adj_probs.columns, colors):\n",
    "        ax = this_data[column].plot.line(color=color, ax=ax)\n",
    "\n",
    "    LFOOTER = (\n",
    "        \"Probabilities adjusted for bookmaker's overround. \"\n",
    "        \"Long-shot odds ignored when calculating probabilities. \"\n",
    "    )\n",
    "\n",
    "    mg.finalise_plot(\n",
    "        ax,\n",
    "        title=\"Probability to win the next Australian Federal election\",\n",
    "        xlabel=None,\n",
    "        ylabel=\"Probability (%)\",\n",
    "        legend=True,\n",
    "        concise_dates=True,\n",
    "        axhline={\"y\": 50, \"color\": \"black\", \"linestyle\": \"-\", \"lw\": 0.75},\n",
    "        tag=\"\" if start is None else start,\n",
    "        rfooter=RFOOTER,\n",
    "        lfooter=LFOOTER,\n",
    "        show=SHOW,\n",
    "    )"
   ]
  },
  {
   "cell_type": "markdown",
   "id": "27680ec7-61f8-41e0-b518-bdaf23e74a15",
   "metadata": {},
   "source": [
    "## Finished"
   ]
  },
  {
   "cell_type": "code",
   "execution_count": 8,
   "id": "164b1e93-89a0-4bc8-b578-ba19de4e3a18",
   "metadata": {},
   "outputs": [
    {
     "name": "stdout",
     "output_type": "stream",
     "text": [
      "Python implementation: CPython\n",
      "Python version       : 3.13.3\n",
      "IPython version      : 9.2.0\n",
      "\n",
      "conda environment: n/a\n",
      "\n",
      "Compiler    : Clang 20.1.0 \n",
      "OS          : Darwin\n",
      "Release     : 24.4.0\n",
      "Machine     : arm64\n",
      "Processor   : arm\n",
      "CPU cores   : 14\n",
      "Architecture: 64bit\n",
      "\n",
      "mgplot    : 0.0.1\n",
      "matplotlib: 3.10.3\n",
      "pandas    : 2.2.3\n",
      "\n",
      "Watermark: 2.5.0\n",
      "\n"
     ]
    }
   ],
   "source": [
    "%load_ext watermark\n",
    "%watermark --python --machine --conda --iversions --watermark"
   ]
  },
  {
   "cell_type": "code",
   "execution_count": 9,
   "id": "2d92a673-64f5-4d67-a1b9-893bc1be4cc6",
   "metadata": {},
   "outputs": [
    {
     "name": "stdout",
     "output_type": "stream",
     "text": [
      "It is done\n"
     ]
    }
   ],
   "source": [
    "print(\"It is done\")"
   ]
  }
 ],
 "metadata": {
  "kernelspec": {
   "display_name": ".venv",
   "language": "python",
   "name": "python3"
  },
  "language_info": {
   "codemirror_mode": {
    "name": "ipython",
    "version": 3
   },
   "file_extension": ".py",
   "mimetype": "text/x-python",
   "name": "python",
   "nbconvert_exporter": "python",
   "pygments_lexer": "ipython3",
   "version": "3.13.3"
  },
  "toc": {
   "base_numbering": 1,
   "nav_menu": {},
   "number_sections": true,
   "sideBar": true,
   "skip_h1_title": true,
   "title_cell": "Table of Contents",
   "title_sidebar": "Contents",
   "toc_cell": true,
   "toc_position": {},
   "toc_section_display": true,
   "toc_window_display": true
  }
 },
 "nbformat": 4,
 "nbformat_minor": 5
}
