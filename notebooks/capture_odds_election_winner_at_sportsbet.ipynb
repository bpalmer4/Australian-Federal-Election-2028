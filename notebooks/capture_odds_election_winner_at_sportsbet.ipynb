{
 "cells": [
  {
   "cell_type": "markdown",
   "id": "7877f3e3",
   "metadata": {},
   "source": [
    "# Capture odds - election winner at sportsbet"
   ]
  },
  {
   "cell_type": "code",
   "execution_count": null,
   "id": "d60c8ecd",
   "metadata": {},
   "outputs": [
    {
     "data": {
      "text/plain": [
       "'Notebook - for testing the betting data capturecode.'"
      ]
     },
     "execution_count": 1,
     "metadata": {},
     "output_type": "execute_result"
    }
   ],
   "source": [
    "\"\"\"Notebook - for testing the betting data capture code.\"\"\""
   ]
  },
  {
   "cell_type": "markdown",
   "id": "02dca76b",
   "metadata": {},
   "source": [
    "Note: this notebook is for ease of testing. Convert to a python file and move to the automated directory.\n",
    "\n",
    "To do this ...\n",
    "```\n",
    "jupyter nbconvert --to python capture_odds_election_winner-at-sportsbet.ipynb\n",
    "\n",
    "chmod 700 \n",
    "\n",
    "mv  capture_odds_election_winner-at-sportsbet.ipynb.py ../automated/_Capture-odds-election-winner-at-sportsbet.py\n",
    "```"
   ]
  },
  {
   "cell_type": "markdown",
   "id": "b33c9d8d",
   "metadata": {},
   "source": [
    "crontab -e\n",
    "```\n",
    "# set-up\n",
    "SHELL=/bin/zsh\n",
    "\n",
    "# run the election odds capture ...\n",
    "58 6 * * * /Users/bryanpalmer/Australian-Federal-Election-2028/automated/election-winner.sh\n",
    "```"
   ]
  },
  {
   "cell_type": "markdown",
   "id": "544f708d-d0b5-4158-ac6c-ca849b825759",
   "metadata": {},
   "source": [
    "Shell file called by cron:\n",
    "```\n",
    "#!/bin/zsh\n",
    "#crontab: 57 6 * * * /Users/bryanpalmer/Australian-Federal-Election-2028/automated/election-winner.sh\n",
    "\n",
    "# set-up parameters\n",
    "home=/Users/bryanpalmer\n",
    "working=Australian-Federal-Election-2028/automated\n",
    "runrun=_Capture-odds-election-winner-at-sportsbet.py\n",
    "\n",
    "# move to the home directory\n",
    "cd $home\n",
    "\n",
    "# activate the uv environment\n",
    "source ~/.venv/uv313/bin/activate\n",
    "\n",
    "# move to the working directory\n",
    "cd $working\n",
    "\n",
    "#initiate the data capture\n",
    "python ./$runrun >>winner-log.log 2>> winner-err.log\n",
    "\n",
    "# update git\n",
    "git commit \"../betting-data/sportsbet-2028-election-winner.csv\" -m \"betting market update\"\n",
    "git push\n",
    "```"
   ]
  },
  {
   "cell_type": "markdown",
   "id": "e9b68c04",
   "metadata": {},
   "source": [
    "## Python setup"
   ]
  },
  {
   "cell_type": "code",
   "execution_count": 2,
   "id": "564a76be",
   "metadata": {
    "ExecuteTime": {
     "end_time": "2022-01-26T01:00:39.903355Z",
     "start_time": "2022-01-26T01:00:39.048552Z"
    }
   },
   "outputs": [
    {
     "name": "stdout",
     "output_type": "stream",
     "text": [
      "webdriver_manager version: 4.0.2\n"
     ]
    }
   ],
   "source": [
    "# --- System imports\n",
    "from pathlib import Path\n",
    "\n",
    "# --- data science imports\n",
    "import pandas as pd\n",
    "from bs4 import BeautifulSoup\n",
    "\n",
    "# --- web scraping imports\n",
    "import webdriver_manager\n",
    "from webdriver_manager.chrome import ChromeDriverManager\n",
    "from selenium import webdriver\n",
    "from selenium.webdriver.chrome.service import Service as ChromeService\n",
    "\n",
    "print(f\"webdriver_manager version: {webdriver_manager.__version__}\")"
   ]
  },
  {
   "cell_type": "markdown",
   "id": "989e2da1",
   "metadata": {},
   "source": [
    "## Extract website text using Selenium"
   ]
  },
  {
   "cell_type": "code",
   "execution_count": 3,
   "id": "75fc1cbe",
   "metadata": {},
   "outputs": [],
   "source": [
    "def get_soup() -> BeautifulSoup:\n",
    "    \"\"\"\n",
    "    Get the soup object from the Sportsbet page.\n",
    "\n",
    "    Returns:\n",
    "        BeautifulSoup: Parsed HTML content of the page.\n",
    "    \"\"\"\n",
    "\n",
    "    # Note you might need to delete the webdriver-manager cache if you get an error\n",
    "    # rm -rf ~/.wdm\n",
    "\n",
    "    _service = ChromeService(ChromeDriverManager().install())\n",
    "    options = webdriver.ChromeOptions()\n",
    "    options.add_argument(\"--ignore-certificate-errors\")\n",
    "    options.add_argument(\"--incognito\")\n",
    "    options.add_argument(\"--headless\")\n",
    "    driver = webdriver.Chrome(options=options)\n",
    "    driver.implicitly_wait(5)\n",
    "    url = (\n",
    "        \"https://www.sportsbet.com.au/betting/politics/australian-federal-politics/\"\n",
    "        + \"49th-parliament-of-australia-9232392\"\n",
    "        # inactive from 21 May 2025\n",
    "        # \"https://www.sportsbet.com.au/betting/politics/australian-federal-politics/\"\n",
    "        # + \"49th-parliament-of-australia-9186904\"\n",
    "    )\n",
    "    driver.get(url)\n",
    "    soup_ = BeautifulSoup(driver.page_source, \"lxml\")\n",
    "    driver.close()\n",
    "\n",
    "    return soup_\n",
    "\n",
    "\n",
    "soup = get_soup()"
   ]
  },
  {
   "cell_type": "code",
   "execution_count": 4,
   "id": "e1d89b1b",
   "metadata": {
    "ExecuteTime": {
     "end_time": "2022-01-26T01:00:49.380172Z",
     "start_time": "2022-01-26T01:00:49.378178Z"
    },
    "scrolled": true
   },
   "outputs": [],
   "source": [
    "# print(soup.prettify())"
   ]
  },
  {
   "cell_type": "markdown",
   "id": "23288bdb",
   "metadata": {},
   "source": [
    "## Extract data of interest"
   ]
  },
  {
   "cell_type": "code",
   "execution_count": 5,
   "id": "abe17af2",
   "metadata": {
    "ExecuteTime": {
     "end_time": "2022-01-26T01:00:49.385848Z",
     "start_time": "2022-01-26T01:00:49.380984Z"
    },
    "scrolled": true
   },
   "outputs": [],
   "source": [
    "def extract_data(b_soup: BeautifulSoup) -> dict[str, str]:\n",
    "    \"\"\"\n",
    "    Extract odds data (names/prices) from the b_soup object.\n",
    "\n",
    "    Args:\n",
    "        b_soup (BeautifulSoup): Parsed HTML content of the page.\n",
    "\n",
    "    Returns:\n",
    "        pd.DataFrame: DataFrame containing the extracted data.\n",
    "    \"\"\"\n",
    "\n",
    "    # --- Find all the rows in the table\n",
    "    # _rows = b_soup.find_all(\"div\", {\"data-automation-id\": \"market-row\"})\n",
    "\n",
    "    # --- Get to the relevant rows\n",
    "    # Step one - get to the right bit of the page ...\n",
    "    # <div class=\"background_fja218n\" data-automation-id=\"content-background\">\n",
    "    div_name = \"content-background\"  # ===> fragile <===\n",
    "    div = b_soup.find_all(\"div\", {\"data-automation-id\": div_name})[0]\n",
    "    # print(div.prettify())\n",
    "\n",
    "    # --- Locate odds\n",
    "    odds = div.find_all(  # type: ignore[union-attr]\n",
    "        \"div\", {\"class\": \"outcomeCardItems_f4kk892\"}\n",
    "    )  # ===> fragile <===\n",
    "    len(odds)  # should be two: for a names row and a prices row\n",
    "\n",
    "    # --- Get the names and prices (as text)\n",
    "    found_ = {}\n",
    "    for k, v in zip(odds[0].contents, odds[1].contents):  # type: ignore[union-attr]\n",
    "        found_[k.text] = v.text\n",
    "\n",
    "    return found_\n",
    "\n",
    "\n",
    "names_prices = extract_data(soup)"
   ]
  },
  {
   "cell_type": "code",
   "execution_count": 6,
   "id": "f2faec29",
   "metadata": {},
   "outputs": [],
   "source": [
    "# names_prices"
   ]
  },
  {
   "cell_type": "markdown",
   "id": "8bc0964d",
   "metadata": {},
   "source": [
    "## Append this data to a CSV file"
   ]
  },
  {
   "cell_type": "code",
   "execution_count": 7,
   "id": "ad7a36ad",
   "metadata": {
    "ExecuteTime": {
     "end_time": "2022-01-26T01:00:49.403316Z",
     "start_time": "2022-01-26T01:00:49.397938Z"
    }
   },
   "outputs": [
    {
     "data": {
      "application/vnd.microsoft.datawrangler.viewer.v0+json": {
       "columns": [
        {
         "name": "datetime",
         "rawType": "datetime64[ns]",
         "type": "datetime"
        },
        {
         "name": "variable",
         "rawType": "object",
         "type": "string"
        },
        {
         "name": "value",
         "rawType": "object",
         "type": "string"
        }
       ],
       "ref": "adef67a9-b651-4fbb-9d8d-8c4e33626571",
       "rows": [
        [
         "2025-05-30 11:18:33.039392",
         "Labor",
         "1.30"
        ],
        [
         "2025-05-30 11:18:33.039392",
         "Liberal and/or Nationals",
         "3.50"
        ],
        [
         "2025-05-30 11:18:33.039392",
         "Any Other Result",
         "26.00"
        ]
       ],
       "shape": {
        "columns": 2,
        "rows": 3
       }
      },
      "text/html": [
       "<div>\n",
       "<style scoped>\n",
       "    .dataframe tbody tr th:only-of-type {\n",
       "        vertical-align: middle;\n",
       "    }\n",
       "\n",
       "    .dataframe tbody tr th {\n",
       "        vertical-align: top;\n",
       "    }\n",
       "\n",
       "    .dataframe thead th {\n",
       "        text-align: right;\n",
       "    }\n",
       "</style>\n",
       "<table border=\"1\" class=\"dataframe\">\n",
       "  <thead>\n",
       "    <tr style=\"text-align: right;\">\n",
       "      <th></th>\n",
       "      <th>variable</th>\n",
       "      <th>value</th>\n",
       "    </tr>\n",
       "    <tr>\n",
       "      <th>datetime</th>\n",
       "      <th></th>\n",
       "      <th></th>\n",
       "    </tr>\n",
       "  </thead>\n",
       "  <tbody>\n",
       "    <tr>\n",
       "      <th>2025-05-30 11:18:33.039392</th>\n",
       "      <td>Labor</td>\n",
       "      <td>1.30</td>\n",
       "    </tr>\n",
       "    <tr>\n",
       "      <th>2025-05-30 11:18:33.039392</th>\n",
       "      <td>Liberal and/or Nationals</td>\n",
       "      <td>3.50</td>\n",
       "    </tr>\n",
       "    <tr>\n",
       "      <th>2025-05-30 11:18:33.039392</th>\n",
       "      <td>Any Other Result</td>\n",
       "      <td>26.00</td>\n",
       "    </tr>\n",
       "  </tbody>\n",
       "</table>\n",
       "</div>"
      ],
      "text/plain": [
       "                                            variable  value\n",
       "datetime                                                   \n",
       "2025-05-30 11:18:33.039392                     Labor   1.30\n",
       "2025-05-30 11:18:33.039392  Liberal and/or Nationals   3.50\n",
       "2025-05-30 11:18:33.039392          Any Other Result  26.00"
      ]
     },
     "execution_count": 7,
     "metadata": {},
     "output_type": "execute_result"
    }
   ],
   "source": [
    "def append_to_file(nap: dict[str, str]) -> pd.DataFrame:\n",
    "    \"\"\"`Append the names and prices to the CSV file.\n",
    "\n",
    "    Args:\n",
    "        nap (dict[str, str]): Dictionary containing names and prices.\n",
    "\n",
    "    Returns:\n",
    "        pd.DataFrame: DataFrame containing the appended data.\n",
    "    \"\"\"\n",
    "\n",
    "    # --- convert to a DataFrame in long format\n",
    "    df = pd.DataFrame([nap.keys(), nap.values()], index=[\"variable\", \"value\"]).T\n",
    "    df.index = pd.DatetimeIndex([pd.Timestamp.now()] * len(df))\n",
    "    df.index.name = \"datetime\"\n",
    "\n",
    "    # --- save to file\n",
    "    file_dir = \"../betting-data\"\n",
    "    Path(file_dir).mkdir(parents=True, exist_ok=True)\n",
    "    file_path = f\"{file_dir}/sportsbet-2028-election-winner.csv\"\n",
    "    df.to_csv(file_path, mode=\"a\", index=True, header=False)\n",
    "\n",
    "    return df\n",
    "\n",
    "\n",
    "append_to_file(names_prices)"
   ]
  }
 ],
 "metadata": {
  "kernelspec": {
   "display_name": ".venv",
   "language": "python",
   "name": "python3"
  },
  "language_info": {
   "codemirror_mode": {
    "name": "ipython",
    "version": 3
   },
   "file_extension": ".py",
   "mimetype": "text/x-python",
   "name": "python",
   "nbconvert_exporter": "python",
   "pygments_lexer": "ipython3",
   "version": "3.13.3"
  },
  "toc": {
   "base_numbering": 1,
   "nav_menu": {},
   "number_sections": true,
   "sideBar": true,
   "skip_h1_title": true,
   "title_cell": "Table of Contents",
   "title_sidebar": "Contents",
   "toc_cell": true,
   "toc_position": {},
   "toc_section_display": true,
   "toc_window_display": true
  },
  "varInspector": {
   "cols": {
    "lenName": 16,
    "lenType": 16,
    "lenVar": 40
   },
   "kernels_config": {
    "python": {
     "delete_cmd_postfix": "",
     "delete_cmd_prefix": "del ",
     "library": "var_list.py",
     "varRefreshCmd": "print(var_dic_list())"
    },
    "r": {
     "delete_cmd_postfix": ") ",
     "delete_cmd_prefix": "rm(",
     "library": "var_list.r",
     "varRefreshCmd": "cat(var_dic_list()) "
    }
   },
   "types_to_exclude": [
    "module",
    "function",
    "builtin_function_or_method",
    "instance",
    "_Feature"
   ],
   "window_display": false
  }
 },
 "nbformat": 4,
 "nbformat_minor": 5
}
